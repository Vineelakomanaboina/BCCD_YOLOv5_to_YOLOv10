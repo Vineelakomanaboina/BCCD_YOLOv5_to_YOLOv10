{
  "nbformat": 4,
  "nbformat_minor": 0,
  "metadata": {
    "colab": {
      "name": "Blood Cell Count using YOLO_V5.ipynb",
      "provenance": [],
      "toc_visible": true
    },
    "kernelspec": {
      "name": "python3",
      "display_name": "Python 3"
    },
    "accelerator": "GPU"
  },
  "cells": [
    {
      "cell_type": "code",
      "metadata": {
        "id": "hVcWncA_iJR9"
      },
      "source": [
        "!git clone 'https://github.com/Shenggan/BCCD_Dataset.git'"
      ],
      "execution_count": null,
      "outputs": []
    },
    {
      "cell_type": "markdown",
      "metadata": {
        "id": "H4e9h0HfVA30"
      },
      "source": [
        "#**DATA PRE-PROCESSING STARTS**"
      ]
    },
    {
      "cell_type": "markdown",
      "metadata": {
        "id": "iccVsnt7VJk1"
      },
      "source": [
        "# Extraction of data labels from .xml file to dataframe"
      ]
    },
    {
      "cell_type": "code",
      "metadata": {
        "id": "Qj5wjt0-fRbS"
      },
      "source": [
        "import shutil\n",
        "import os, sys, random\n",
        "import xml.etree.ElementTree as ET\n",
        "from glob import glob\n",
        "import pandas as pd\n",
        "from shutil import copyfile\n",
        "import pandas as pd\n",
        "from sklearn import preprocessing, model_selection\n",
        "import matplotlib.pyplot as plt\n",
        "%matplotlib inline\n",
        "from matplotlib import patches\n",
        "import numpy as np\n",
        "import os"
      ],
      "execution_count": null,
      "outputs": []
    },
    {
      "cell_type": "code",
      "metadata": {
        "id": "4_8R_DIIiQEY"
      },
      "source": [
        "annotations = sorted(glob('/content/BCCD_Dataset/BCCD/Annotations/*.xml'))\n",
        "\n",
        "df = []\n",
        "cnt = 0\n",
        "for file in annotations:\n",
        "  prev_filename = file.split('/')[-1].split('.')[0] + '.jpg'\n",
        "  filename = str(cnt) + '.jpg'\n",
        "  row = []\n",
        "  parsedXML = ET.parse(file)\n",
        "  for node in parsedXML.getroot().iter('object'):\n",
        "    blood_cells = node.find('name').text\n",
        "    xmin = int(node.find('bndbox/xmin').text)\n",
        "    xmax = int(node.find('bndbox/xmax').text)\n",
        "    ymin = int(node.find('bndbox/ymin').text)\n",
        "    ymax = int(node.find('bndbox/ymax').text)\n",
        "\n",
        "    row = [prev_filename, filename, blood_cells, xmin, xmax, ymin, ymax]\n",
        "    df.append(row)\n",
        "  cnt += 1\n",
        "\n",
        "data = pd.DataFrame(df, columns=['prev_filename', 'filename', 'cell_type', 'xmin', 'xmax', 'ymin', 'ymax'])\n",
        "\n",
        "data[['prev_filename','filename', 'cell_type', 'xmin', 'xmax', 'ymin', 'ymax']].to_csv('/content/blood_cell_detection.csv', index=False)\n"
      ],
      "execution_count": null,
      "outputs": []
    },
    {
      "cell_type": "markdown",
      "metadata": {
        "id": "_6cRsoE6VRAD"
      },
      "source": [
        "# Processing data as per the YOLO_V5 format"
      ]
    },
    {
      "cell_type": "markdown",
      "metadata": {
        "id": "Onr1Vqm4x4qz"
      },
      "source": [
        "**DATAFRAME STRUCTURE**\n",
        "\n",
        "- filename : contains the name of the image\n",
        "- cell_type: denotes the type of the cell\n",
        "- xmin: x-coordinate of the bottom left part of the image\n",
        "- xmax: x-coordinate of the top right part of the image\n",
        "- ymin: y-coordinate of the bottom left part of the image\n",
        "- ymax: y-coordinate of the top right part of the image\n",
        "- labels : Encoded cell-type **(Yolo - label input-1)**\n",
        "- width : width of that bbox\n",
        "- height : height of that bbox\n",
        "- x_center : bbox center (x-axis)\n",
        "-\ty_center : bbox center (y-axis)\n",
        "-\tx_center_norm\t: x_center normalized (0-1) **(Yolo - label input-2)**\n",
        "-\ty_center_norm : y_center normalized (0-1) **(Yolo - label input-3)**\n",
        "- width_norm : width normalized (0-1) **(Yolo - label input-4)**\n",
        "-\theight_norm : height normalized (0-1) **(Yolo - label input-5)**"
      ]
    },
    {
      "cell_type": "code",
      "metadata": {
        "id": "2rybfBj3mwBV"
      },
      "source": [
        "img_width = 640\n",
        "img_height = 480\n",
        "\n",
        "def width(df):\n",
        "  return int(df.xmax - df.xmin)\n",
        "def height(df):\n",
        "  return int(df.ymax - df.ymin)\n",
        "def x_center(df):\n",
        "  return int(df.xmin + (df.width/2))\n",
        "def y_center(df):\n",
        "  return int(df.ymin + (df.height/2))\n",
        "def w_norm(df):\n",
        "  return df/img_width\n",
        "def h_norm(df):\n",
        "  return df/img_height\n",
        "\n",
        "df = pd.read_csv('/content/blood_cell_detection.csv')\n",
        "\n",
        "le = preprocessing.LabelEncoder()\n",
        "le.fit(df['cell_type'])\n",
        "print(le.classes_)\n",
        "labels = le.transform(df['cell_type'])\n",
        "df['labels'] = labels\n",
        "\n",
        "df['width'] = df.apply(width, axis=1)\n",
        "df['height'] = df.apply(height, axis=1)\n",
        "\n",
        "df['x_center'] = df.apply(x_center, axis=1)\n",
        "df['y_center'] = df.apply(y_center, axis=1)\n",
        "\n",
        "df['x_center_norm'] = df['x_center'].apply(w_norm)\n",
        "df['width_norm'] = df['width'].apply(w_norm)\n",
        "\n",
        "df['y_center_norm'] = df['y_center'].apply(h_norm)\n",
        "df['height_norm'] = df['height'].apply(h_norm)\n",
        "\n",
        "df.head(30)"
      ],
      "execution_count": null,
      "outputs": []
    },
    {
      "cell_type": "code",
      "metadata": {
        "id": "pk4xn6BJ4B6q",
        "cellView": "form"
      },
      "source": [
        "#@title SAMPLE PLOT - shape (480, 640, 3)\n",
        "fig = plt.figure()\n",
        "import cv2\n",
        "#add axes to the image\n",
        "ax = fig.add_axes([0,0,1,1])\n",
        "\n",
        "# read and plot the image\n",
        "image = plt.imread('/content/BCCD_Dataset/BCCD/JPEGImages/BloodImage_00001.jpg')\n",
        "plt.imshow(image)\n",
        "\n",
        "# iterating over the image for different objects\n",
        "for _,row in df[df.filename == \"1.jpg\"].iterrows():\n",
        "    xmin = row.xmin\n",
        "    xmax = row.xmax\n",
        "    ymin = row.ymin\n",
        "    ymax = row.ymax\n",
        "\n",
        "    width = xmax - xmin\n",
        "    height = ymax - ymin\n",
        "\n",
        "    # assign different color to different classes of objects\n",
        "    if row.cell_type == 'RBC':\n",
        "        edgecolor = 'r'\n",
        "        ax.annotate('RBC', xy=(xmax-40,ymin+20))\n",
        "    elif row.cell_type == 'WBC':\n",
        "        edgecolor = 'b'\n",
        "        ax.annotate('WBC', xy=(xmax-40,ymin+20))\n",
        "    elif row.cell_type == 'Platelets':\n",
        "        edgecolor = 'g'\n",
        "        ax.annotate('Platelets', xy=(xmax-40,ymin+20))\n",
        "\n",
        "    # add bounding boxes to the image\n",
        "    rect = patches.Rectangle((xmin,ymin), width, height, edgecolor = edgecolor, facecolor = 'none')\n",
        "\n",
        "    ax.add_patch(rect)"
      ],
      "execution_count": null,
      "outputs": []
    },
    {
      "cell_type": "markdown",
      "metadata": {
        "id": "CLnE5tWOVaKM"
      },
      "source": [
        "# Splitting into training and validation datasets"
      ]
    },
    {
      "cell_type": "code",
      "metadata": {
        "id": "gRrIQI7m8H5P"
      },
      "source": [
        "df_train, df_valid = model_selection.train_test_split(df, test_size=0.1, random_state=13, shuffle=True)\n",
        "print(df_train.shape, df_valid.shape)"
      ],
      "execution_count": null,
      "outputs": []
    },
    {
      "cell_type": "code",
      "metadata": {
        "id": "zO6iT6rQ-2f3"
      },
      "source": [
        "os.mkdir('/content/bcc/')\n",
        "os.mkdir('/content/bcc/images/')\n",
        "os.mkdir('/content/bcc/images/train/')\n",
        "os.mkdir('/content/bcc/images/valid/')\n",
        "\n",
        "os.mkdir('/content/bcc/labels/')\n",
        "os.mkdir('/content/bcc/labels/train/')\n",
        "os.mkdir('/content/bcc/labels/valid/')"
      ],
      "execution_count": null,
      "outputs": []
    },
    {
      "cell_type": "markdown",
      "metadata": {
        "id": "bmsqg2dYACVr"
      },
      "source": [
        "# Data segregation and moving to it's corresponding folders\n",
        "- BCC\n",
        "  - Images\n",
        "    - Train (364 images [.jpg files])\n",
        "    - Valid (270 images [.jpg files])\n",
        "  - Labels\n",
        "    - Train (364 labels [.txt files])\n",
        "    - Valid (270 labels [.txt files])\n"
      ]
    },
    {
      "cell_type": "markdown",
      "metadata": {
        "id": "2IACNN0QxC4s"
      },
      "source": [
        "**STRUCTURE OF .txt FILE**\n",
        "\n",
        "- One row per object\n",
        "- Each row is class x_center y_center width height format.\n",
        "- Box coordinates must be in normalized xywh format (from 0 - 1). If your boxes  are in pixels, divide x_center and width by image width, and y_center and height by image height.\n",
        "- Class numbers are zero-indexed (start from 0).\n"
      ]
    },
    {
      "cell_type": "markdown",
      "metadata": {
        "id": "_VgUi-pQ0BZo"
      },
      "source": [
        "<img src=\"https://github.com/bala-codes/Yolo-v5_Object_Detection_Blood_Cell_Count_and_Detection/blob/master/imgs/label_txt.PNG?raw=true\" width=\"50%\">\n"
      ]
    },
    {
      "cell_type": "code",
      "metadata": {
        "id": "Bo21M14uF25h"
      },
      "source": [
        "def segregate_data(df, img_path, label_path, train_img_path, train_label_path):\n",
        "  filenames = []\n",
        "  for filename in df.filename:\n",
        "    filenames.append(filename)\n",
        "  filenames = set(filenames)\n",
        "\n",
        "  for filename in filenames:\n",
        "    yolo_list = []\n",
        "\n",
        "    for _,row in df[df.filename == filename].iterrows():\n",
        "      yolo_list.append([row.labels, row.x_center_norm, row.y_center_norm, row.width_norm, row.height_norm])\n",
        "\n",
        "    yolo_list = np.array(yolo_list)\n",
        "    txt_filename = os.path.join(train_label_path,str(row.prev_filename.split('.')[0])+\".txt\")\n",
        "    # Save the .img & .txt files to the corresponding train and validation folders\n",
        "    np.savetxt(txt_filename, yolo_list, fmt=[\"%d\", \"%f\", \"%f\", \"%f\", \"%f\"])\n",
        "    shutil.copyfile(os.path.join(img_path,row.prev_filename), os.path.join(train_img_path,row.prev_filename))"
      ],
      "execution_count": null,
      "outputs": []
    },
    {
      "cell_type": "code",
      "metadata": {
        "id": "4uy4rLGYSBd7"
      },
      "source": [
        "%%time\n",
        "src_img_path = \"/content/BCCD_Dataset/BCCD/JPEGImages/\"\n",
        "src_label_path = \"/content/BCCD_Dataset/BCCD/Annotations/\"\n",
        "\n",
        "train_img_path = \"/content/bcc/images/train\"\n",
        "train_label_path = \"/content/bcc/labels/train\"\n",
        "\n",
        "valid_img_path = \"/content/bcc/images/valid\"\n",
        "valid_label_path = \"/content/bcc/labels/valid\"\n",
        "\n",
        "segregate_data(df_train, src_img_path, src_label_path, train_img_path, train_label_path)\n",
        "segregate_data(df_valid, src_img_path, src_label_path, valid_img_path, valid_label_path)"
      ],
      "execution_count": null,
      "outputs": []
    },
    {
      "cell_type": "code",
      "metadata": {
        "id": "LDv31-CdS_nt"
      },
      "source": [
        "try:\n",
        "  shutil.rmtree('/content/bcc/images/train/.ipynb_checkpoints')\n",
        "except FileNotFoundError:\n",
        "  pass\n",
        "\n",
        "try:\n",
        "  shutil.rmtree('/content/bcc/images/valid/.ipynb_checkpoints')\n",
        "except FileNotFoundError:\n",
        "  pass\n",
        "\n",
        "try:\n",
        "  shutil.rmtree('/content/bcc/labels/train/.ipynb_checkpoints')\n",
        "except FileNotFoundError:\n",
        "  pass\n",
        "\n",
        "try:\n",
        "  shutil.rmtree('/content/bcc/labels/valid/.ipynb_checkpoints')\n",
        "except FileNotFoundError:\n",
        "  pass\n",
        "\n",
        "print(\"No. of Training images\", len(os.listdir('/content/bcc/images/train')))\n",
        "print(\"No. of Training labels\", len(os.listdir('/content/bcc/labels/train')))\n",
        "\n",
        "print(\"No. of valid images\", len(os.listdir('/content/bcc/images/valid')))\n",
        "print(\"No. of valid labels\", len(os.listdir('/content/bcc/labels/valid')))"
      ],
      "execution_count": null,
      "outputs": []
    },
    {
      "cell_type": "markdown",
      "metadata": {
        "id": "V2uPhrQCU6vT"
      },
      "source": [
        "# **END OF DATA PRE-PROCESSING**"
      ]
    },
    {
      "cell_type": "markdown",
      "metadata": {
        "id": "gjHmEIfmWNms"
      },
      "source": [
        "#**YOLO V5 STARTS**"
      ]
    },
    {
      "cell_type": "code",
      "metadata": {
        "id": "05kiA297y2s3"
      },
      "source": [
        "!mkdir -p '/content/drive/My Drive/Machine Learning Projects/YOLO/'\n",
        "!cp -r '/content/bcc' '/content/drive/My Drive/Machine Learning Projects/YOLO/'"
      ],
      "execution_count": null,
      "outputs": []
    },
    {
      "cell_type": "markdown",
      "metadata": {
        "id": "lcA59GtHeCrd"
      },
      "source": [
        "# Cloning from the yolo v5 repo.\n",
        "More can be found at here : [yolo](https://github.com/ultralytics/yolov5)"
      ]
    },
    {
      "cell_type": "code",
      "metadata": {
        "id": "YnhcNiuTGAK7"
      },
      "source": [
        "!git clone  'https://github.com/ultralytics/yolov5.git'"
      ],
      "execution_count": null,
      "outputs": []
    },
    {
      "cell_type": "code",
      "metadata": {
        "id": "A4i0BpZIbyTz"
      },
      "source": [
        "!pip install -qr '/content/yolov5/requirements.txt'  # install dependencies"
      ],
      "execution_count": null,
      "outputs": []
    },
    {
      "cell_type": "markdown",
      "metadata": {
        "id": "KUsMKPtGeUcv"
      },
      "source": [
        "# WE SHOULD CREATE A .yaml FILE AND THEN PLACE IT INSIDE THE yolov5 FOLDER"
      ]
    },
    {
      "cell_type": "markdown",
      "metadata": {
        "id": "bqymagYif3Us"
      },
      "source": [
        "#**Contents of YAML file**\n",
        "\n",
        "train: /content/bcc/images/train                    \n",
        "val: /content/bcc/images/valid\n",
        "\n",
        "nc: 3\n",
        "\n",
        "names: ['Platelets', 'RBC', 'WBC']\n"
      ]
    },
    {
      "cell_type": "markdown",
      "metadata": {
        "id": "JNUfz-i21pVU"
      },
      "source": [
        "<img src=\"https://github.com/bala-codes/Yolo-v5_Object_Detection_Blood_Cell_Count_and_Detection/blob/master/imgs/bcc_yaml.PNG?raw=true\" width=\"50%\">\n",
        "\n"
      ]
    },
    {
      "cell_type": "code",
      "metadata": {
        "id": "IgIO3balXB-B"
      },
      "source": [
        "!echo -e 'train: /content/bcc/images/train\\nval: /content/bcc/images/valid\\n\\nnc: 3\\nnames: ['Platelets', 'RBC', 'WBC']' >> bcc.yaml\n",
        "!cat 'bcc.yaml'"
      ],
      "execution_count": null,
      "outputs": []
    },
    {
      "cell_type": "code",
      "metadata": {
        "id": "31-z05sIcMcv"
      },
      "source": [
        "shutil.copyfile('/content/bcc.yaml', '/content/yolov5/bcc.yaml')"
      ],
      "execution_count": null,
      "outputs": []
    },
    {
      "cell_type": "markdown",
      "metadata": {
        "id": "7gUcPKfsDlEQ"
      },
      "source": [
        "#**Also edit the number of classes (nc) in the ./models/*.yaml file**\n",
        "\n",
        "Choose the yolo model of your choice, here I chose yolov5s.yaml (yolo - small)\n"
      ]
    },
    {
      "cell_type": "code",
      "metadata": {
        "id": "0cXuPZjRhg3o"
      },
      "source": [
        "!sed -i 's/nc: 80/nc: 3/g' ./yolov5/models/yolov5s.yaml"
      ],
      "execution_count": null,
      "outputs": []
    },
    {
      "cell_type": "markdown",
      "metadata": {
        "id": "zL2G0EG1EJQs"
      },
      "source": [
        "<img src=\"https://cdn-images-1.medium.com/max/600/1*hCE5VwKkqHlZW466umYTTA.png\">"
      ]
    },
    {
      "cell_type": "markdown",
      "metadata": {
        "id": "g_4-F3I2gVIN"
      },
      "source": [
        "# Training command"
      ]
    },
    {
      "cell_type": "markdown",
      "metadata": {
        "id": "127Pw1oS1zzY"
      },
      "source": [
        "**Training Parameters**\n",
        "\n",
        "!python\n",
        "- <'location of train.py file'>\n",
        "- --img <'width of image'>\n",
        "- --batch <'batch size'>\n",
        "- --epochs <'no of epochs'>\n",
        "- --data <'location of the .yaml file'>\n",
        "- --cfg <'Which yolo configuration you want'>(yolov5s/yolov5m/yolov5l/yolov5x).yaml | (small, medium, large, xlarge)\n",
        "- --name <'Name of the best model after training'>"
      ]
    },
    {
      "cell_type": "markdown",
      "metadata": {
        "id": "Ztjc7_wS5z2J"
      },
      "source": [
        "**METRICS FROM TRAINING PROCESS**\n",
        "\n",
        "**No.of classes, No.of images, No.of targets, Precision (P), Recall (R), mean Average Precision (map)**\n",
        "- Class | Images | Targets | P | R | mAP@.5 | mAP@.5:.95: |\n",
        "- all   | 270    |     489 |    0.0899 |       0.827 |      0.0879 |      0.0551"
      ]
    },
    {
      "cell_type": "code",
      "metadata": {
        "id": "k3Tc61Qzd4lY"
      },
      "source": [
        "%%time\n",
        "\n",
        "!python yolov5/train.py --img 640 --batch 8 --epochs 100 --data bcc.yaml --cfg models/yolov5s.yaml --name BCCM"
      ],
      "execution_count": null,
      "outputs": []
    },
    {
      "cell_type": "code",
      "metadata": {
        "id": "i7upZcFvhWhN"
      },
      "source": [
        "# Start tensorboard (optional)\n",
        "%load_ext tensorboard\n",
        "%tensorboard --logdir runs/"
      ],
      "execution_count": null,
      "outputs": []
    },
    {
      "cell_type": "markdown",
      "metadata": {
        "id": "DJYN1lb_uV-T"
      },
      "source": [
        "#**INFERENCE**"
      ]
    },
    {
      "cell_type": "code",
      "metadata": {
        "id": "FHnXEx4subZ0"
      },
      "source": [
        "#Optimizer stripped from runs/exp2_BCCM/weights/last_BCCM.pt, 14.8MB\n",
        "#Optimizer stripped from runs/exp2_BCCM/weights/best_BCCM.pt, 14.8MB"
      ],
      "execution_count": null,
      "outputs": []
    },
    {
      "cell_type": "markdown",
      "metadata": {
        "id": "obKZFwYHvg6a"
      },
      "source": [
        "# BATCH PREDICTION\n",
        "- Results saved to inference/output\n"
      ]
    },
    {
      "cell_type": "markdown",
      "metadata": {
        "id": "jtCUnoyr7h8y"
      },
      "source": [
        "**Inference Parameters**\n",
        "\n",
        "!python\n",
        "- <'location of detect.py file'>\n",
        "- --source <'location of image/ folder to predict'>\n",
        "- --weight <'location of the saved best weights'>\n",
        "- --output <'location of output files after prediction'>"
      ]
    },
    {
      "cell_type": "code",
      "metadata": {
        "id": "PoDLzE4xu_Bo"
      },
      "source": [
        "!python yolov5/detect.py --source /content/bcc/images/valid/ --weights '/content/runs/exp0_BCCM/weights/best.pt' --output '/content/inference/output'"
      ],
      "execution_count": null,
      "outputs": []
    },
    {
      "cell_type": "code",
      "metadata": {
        "id": "1UFERGRGwOEQ"
      },
      "source": [
        "disp_images = glob('/content/inference/output/*')\n",
        "fig=plt.figure(figsize=(20, 28))\n",
        "columns = 3\n",
        "rows = 5\n",
        "for i in range(1, columns*rows +1):\n",
        "    img = np.random.choice(disp_images)\n",
        "    img = plt.imread(img)\n",
        "    fig.add_subplot(rows, columns, i)\n",
        "    plt.imshow(img)\n",
        "plt.show()"
      ],
      "execution_count": null,
      "outputs": []
    },
    {
      "cell_type": "markdown",
      "metadata": {
        "id": "wrXZ10ikvnDB"
      },
      "source": [
        "# SINGLE IMAGE PREDICTIONS\n"
      ]
    },
    {
      "cell_type": "code",
      "metadata": {
        "id": "RuIiMYKdvRi1"
      },
      "source": [
        "output = !python yolov5/detect.py --source /content/bcc/images/valid/BloodImage_00000.jpg --weights '/content/runs/exp0_BCCM/weights/best_BCCM.pt'\n",
        "print(output)"
      ],
      "execution_count": null,
      "outputs": []
    },
    {
      "cell_type": "markdown",
      "metadata": {
        "id": "-1ZarG561ak5"
      },
      "source": [
        "# You need these files, if you wish to move the model to production"
      ]
    },
    {
      "cell_type": "markdown",
      "metadata": {
        "id": "AxI5iupx_jd1"
      },
      "source": [
        "## Files"
      ]
    },
    {
      "cell_type": "code",
      "metadata": {
        "id": "NSAegF-48fHj"
      },
      "source": [
        "shutil.copyfile('/content/yolov5/detect.py', '/content/drive/My Drive/Machine Learning Projects/YOLO/SOURCE/detect.py')\n",
        "shutil.copyfile('/content/yolov5/requirements.txt', '/content/drive/My Drive/Machine Learning Projects/YOLO/SOURCE/requirements.txt')\n",
        "shutil.copyfile('/content/runs/exp2_BCCM/weights/best_BCCM.pt', '/content/drive/My Drive/Machine Learning Projects/YOLO/SOURCE/best_BCCM.pt')\n",
        "\n"
      ],
      "execution_count": null,
      "outputs": []
    },
    {
      "cell_type": "markdown",
      "metadata": {
        "id": "Kd-aarpL_lB1"
      },
      "source": [
        "## Folder"
      ]
    },
    {
      "cell_type": "code",
      "metadata": {
        "id": "I1Gup2m3vv_M"
      },
      "source": [
        "!cp -r '/content/yolov5/models' '/content/drive/My Drive/Machine Learning Projects/YOLO/SOURCE/'\n",
        "!cp -r '/content/yolov5/utils' '/content/drive/My Drive/Machine Learning Projects/YOLO/SOURCE/'\n"
      ],
      "execution_count": null,
      "outputs": []
    }
  ]
}